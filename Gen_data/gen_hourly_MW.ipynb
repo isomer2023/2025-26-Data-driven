{
 "cells": [
  {
   "cell_type": "code",
   "execution_count": 3,
   "id": "1a802ba3",
   "metadata": {},
   "outputs": [
    {
     "name": "stdout",
     "output_type": "stream",
     "text": [
      "             datetime    Area Production Type  Generation (MW)\n",
      "0 2023-01-01 00:00:00  BZN|ES         Biomass            166.0\n",
      "1 2023-01-01 01:00:00  BZN|ES         Biomass            155.0\n",
      "2 2023-01-01 02:00:00  BZN|ES         Biomass            148.0\n",
      "3 2023-01-01 03:00:00  BZN|ES         Biomass            164.0\n",
      "4 2023-01-01 04:00:00  BZN|ES         Biomass            177.0\n"
     ]
    }
   ],
   "source": [
    "import pandas as pd\n",
    "\n",
    "# === 1. Load CSV ===\n",
    "filename = \"AGGREGATED_GENERATION_PER_TYPE_GENERATION_15min_2023.csv\"\n",
    "outputfile = \"gen_hourly_MW_2023.csv\"\n",
    "df = pd.read_csv(filename, low_memory=False)\n",
    "\n",
    "# === 2. Parse the MTU column to extract start/end times ===\n",
    "mtu = df[\"MTU (CET/CEST)\"].str.extract(\n",
    "    r'(?P<start>\\d{2}/\\d{2}/\\d{4} \\d{2}:\\d{2}:\\d{2})\\s*(?:\\((?:CET|CEST)\\))?\\s*-\\s*'\n",
    "    r'(?P<end>\\d{2}/\\d{2}/\\d{4} \\d{2}:\\d{2}:\\d{2})\\s*(?:\\((?:CET|CEST)\\))?'\n",
    ")\n",
    "\n",
    "df[\"Start\"] = pd.to_datetime(mtu[\"start\"], dayfirst=True, errors=\"coerce\")\n",
    "df[\"End\"] = pd.to_datetime(mtu[\"end\"], dayfirst=True, errors=\"coerce\")\n",
    "\n",
    "# === 3. Convert Generation column to numeric ===\n",
    "gcol = \"Generation (MW)\"\n",
    "df[gcol] = pd.to_numeric(df[gcol].astype(str).str.replace(\",\", \".\"), errors=\"coerce\")\n",
    "\n",
    "# === 4. Clean and prepare data ===\n",
    "df = df.dropna(subset=[\"Start\", gcol]).set_index(\"Start\").sort_index()\n",
    "\n",
    "# === 5. Define grouping columns (if present) ===\n",
    "group_cols = [c for c in [\"Area\", \"Production Type\"] if c in df.columns]\n",
    "\n",
    "# === 6. Resample to hourly average power (MW) ===\n",
    "hourly_avg = (\n",
    "    df.groupby(group_cols + [pd.Grouper(freq=\"1h\")])[gcol]\n",
    "      .mean()\n",
    "      .reset_index()\n",
    "      .rename(columns={\"Start\": \"datetime\", gcol: \"Generation (MW)\"})\n",
    ")\n",
    "\n",
    "# === 7. Reorder columns: put datetime first ===\n",
    "cols = [\"datetime\"] + [c for c in hourly_avg.columns if c != \"datetime\"]\n",
    "hourly_avg = hourly_avg[cols]\n",
    "\n",
    "# === 8. Save result (optional) ===\n",
    "hourly_avg.to_csv(outputfile, index=False)\n",
    "\n",
    "print(hourly_avg.head())"
   ]
  }
 ],
 "metadata": {
  "kernelspec": {
   "display_name": "p311_env",
   "language": "python",
   "name": "python3"
  },
  "language_info": {
   "codemirror_mode": {
    "name": "ipython",
    "version": 3
   },
   "file_extension": ".py",
   "mimetype": "text/x-python",
   "name": "python",
   "nbconvert_exporter": "python",
   "pygments_lexer": "ipython3",
   "version": "3.11.0"
  }
 },
 "nbformat": 4,
 "nbformat_minor": 5
}
