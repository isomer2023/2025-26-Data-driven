{
 "cells": [
  {
   "cell_type": "code",
   "execution_count": 10,
   "id": "1a802ba3",
   "metadata": {},
   "outputs": [
    {
     "name": "stderr",
     "output_type": "stream",
     "text": [
      "C:\\Users\\Archer\\AppData\\Local\\Temp\\ipykernel_22148\\1798558242.py:7: DtypeWarning: Columns (3) have mixed types. Specify dtype option on import or set low_memory=False.\n",
      "  df = pd.read_csv(fn)\n",
      "C:\\Users\\Archer\\AppData\\Local\\Temp\\ipykernel_22148\\1798558242.py:28: FutureWarning: 'H' is deprecated and will be removed in a future version, please use 'h' instead.\n",
      "  df.groupby(group_cols + [pd.Grouper(freq=\"1H\")])[gcol]\n",
      "C:\\Users\\Archer\\AppData\\Local\\Temp\\ipykernel_22148\\1798558242.py:37: FutureWarning: 'H' is deprecated and will be removed in a future version, please use 'h' instead.\n",
      "  .groupby(group_cols + [pd.Grouper(freq=\"1H\")])[\"EnergyMWh\"]\n"
     ]
    },
    {
     "name": "stdout",
     "output_type": "stream",
     "text": [
      "             datetime    Area Production Type  Energy (MWh)\n",
      "0 2022-01-01 00:00:00  BZN|ES         Biomass        131.50\n",
      "1 2022-01-01 01:00:00  BZN|ES         Biomass        133.25\n",
      "2 2022-01-01 02:00:00  BZN|ES         Biomass        131.00\n",
      "3 2022-01-01 03:00:00  BZN|ES         Biomass        133.00\n",
      "4 2022-01-01 04:00:00  BZN|ES         Biomass        132.00\n"
     ]
    }
   ],
   "source": [
    "import pandas as pd\n",
    "\n",
    "fn = \"AGGREGATED_GENERATION_PER_TYPE_GENERATION_1hour_2022.csv\"\n",
    "outputfile = \"gen_hourly_2022.csv\"\n",
    "gcol = \"Generation (MW)\"\n",
    "\n",
    "df = pd.read_csv(fn)\n",
    "\n",
    "# 1) Parse MTU start/end (handles \" (CET)\" / \" (CEST)\" suffixes)\n",
    "mtu = df[\"MTU (CET/CEST)\"].str.extract(\n",
    "    r'(?P<start>\\d{2}/\\d{2}/\\d{4} \\d{2}:\\d{2}:\\d{2})\\s*(?:\\((?:CET|CEST)\\))?\\s*-\\s*'\n",
    "    r'(?P<end>\\d{2}/\\d{2}/\\d{4} \\d{2}:\\d{2}:\\d{2})\\s*(?:\\((?:CET|CEST)\\))?'\n",
    ")\n",
    "df[\"Start\"] = pd.to_datetime(mtu[\"start\"], dayfirst=True, errors=\"coerce\")\n",
    "df[\"End\"]   = pd.to_datetime(mtu[\"end\"],   dayfirst=True, errors=\"coerce\")\n",
    "\n",
    "# 2) Make generation numeric (also handle decimal commas)\n",
    "df[gcol] = pd.to_numeric(df[gcol].astype(str).str.replace(\",\", \".\"), errors=\"coerce\")\n",
    "\n",
    "# 3) Keep only good rows, set index for resampling\n",
    "df = df.dropna(subset=[\"Start\", gcol]).set_index(\"Start\").sort_index()\n",
    "\n",
    "# 4) Grouping columns if present\n",
    "group_cols = [c for c in [\"Area\", \"Production Type\"] if c in df.columns]\n",
    "\n",
    "# === Hourly average power (MW) ===\n",
    "hourly_avg = (\n",
    "    df.groupby(group_cols + [pd.Grouper(freq=\"1H\")])[gcol]\n",
    "      .mean()\n",
    "      .reset_index()\n",
    "      .rename(columns={gcol: \"Generation (MW)\", \"Start\": \"Hour\"})\n",
    ")\n",
    "\n",
    "# === Hourly energy (MWh) from 15-min MW readings (each 15-min = 0.25 h) ===\n",
    "hourly_mwh = (\n",
    "    df.assign(EnergyMWh=df[gcol] * 0.25)\n",
    "      .groupby(group_cols + [pd.Grouper(freq=\"1H\")])[\"EnergyMWh\"]\n",
    "      .sum()\n",
    "      .reset_index()\n",
    "      .rename(columns={\"Start\": \"Hour\", \"EnergyMWh\": \"Energy (MWh)\"})\n",
    ")\n",
    "# Move 'Hour' to first and rename to 'datetime'\n",
    "for df_out in [hourly_avg, hourly_mwh]:\n",
    "    if \"Hour\" in df_out.columns:\n",
    "        df_out.rename(columns={\"Hour\": \"datetime\"}, inplace=True)\n",
    "        # Move to first column\n",
    "        cols = [\"datetime\"] + [c for c in df_out.columns if c != \"datetime\"]\n",
    "        df_out = df_out[cols]\n",
    "        # assign back\n",
    "        if \"Generation (MW)\" in df_out.columns:\n",
    "            hourly_avg = df_out\n",
    "        else:\n",
    "            hourly_mwh = df_out\n",
    "\n",
    "# 5) Save (optional)\n",
    "#hourly_avg.to_csv(\"generation_hourly_average_MW.csv\", index=False)\n",
    "hourly_mwh.to_csv(outputfile, index=False)\n",
    "\n",
    "#print(hourly_avg.head())\n",
    "print(hourly_mwh.head())"
   ]
  }
 ],
 "metadata": {
  "kernelspec": {
   "display_name": "p311_env",
   "language": "python",
   "name": "python3"
  },
  "language_info": {
   "codemirror_mode": {
    "name": "ipython",
    "version": 3
   },
   "file_extension": ".py",
   "mimetype": "text/x-python",
   "name": "python",
   "nbconvert_exporter": "python",
   "pygments_lexer": "ipython3",
   "version": "3.11.0"
  }
 },
 "nbformat": 4,
 "nbformat_minor": 5
}
